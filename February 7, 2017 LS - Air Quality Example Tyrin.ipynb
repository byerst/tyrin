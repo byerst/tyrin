{
 "cells": [
  {
   "cell_type": "code",
   "execution_count": 4,
   "metadata": {
    "collapsed": true
   },
   "outputs": [],
   "source": [
    "# load numerical packages\n",
    "from __future__ import division\n",
    "import numpy as np \n",
    "import scipy as sp\n",
    "import math\n",
    "import matplotlib.pyplot as plt \n",
    "from matplotlib.legend_handler import HandlerLine2D\n",
    "#import seaborn as sns\n",
    "import pandas as pd\n",
    "from ipywidgets import interact, fixed \n",
    "%matplotlib inline\n",
    "\n",
    "\n",
    "np.set_printoptions(threshold=np.inf)"
   ]
  },
  {
   "cell_type": "code",
   "execution_count": 5,
   "metadata": {
    "collapsed": true
   },
   "outputs": [],
   "source": [
    "# RMSE functions\n",
    "# Root mean squared error\n",
    "    # Input D and Y as column matrices\n",
    "\n",
    "def RMSE(D, Y):\n",
    "    [m,n] = D.shape\n",
    "    E = np.subtract(D,Y)\n",
    "    E2 = np.square(E)\n",
    "    E2_sum = np.sum(E2)\n",
    "    rmse = (1/m)*E2_sum\n",
    "    rmse = np.sqrt(rmse)\n",
    "    return rmse;"
   ]
  },
  {
   "cell_type": "code",
   "execution_count": 6,
   "metadata": {
    "collapsed": false
   },
   "outputs": [
    {
     "data": {
      "text/html": [
       "<div>\n",
       "<table border=\"1\" class=\"dataframe\">\n",
       "  <thead>\n",
       "    <tr style=\"text-align: right;\">\n",
       "      <th></th>\n",
       "      <th>Date</th>\n",
       "      <th>Time</th>\n",
       "      <th>CO(GT)</th>\n",
       "      <th>PT08.S1(CO)</th>\n",
       "      <th>NMHC(GT)</th>\n",
       "      <th>C6H6(GT)</th>\n",
       "      <th>PT08.S2(NMHC)</th>\n",
       "      <th>NOx(GT)</th>\n",
       "      <th>PT08.S3(NOx)</th>\n",
       "      <th>NO2(GT)</th>\n",
       "      <th>PT08.S4(NO2)</th>\n",
       "      <th>PT08.S5(O3)</th>\n",
       "      <th>T</th>\n",
       "      <th>RH</th>\n",
       "      <th>AH</th>\n",
       "    </tr>\n",
       "  </thead>\n",
       "  <tbody>\n",
       "    <tr>\n",
       "      <th>0</th>\n",
       "      <td>2004-03-10</td>\n",
       "      <td>18:00:00</td>\n",
       "      <td>2.6</td>\n",
       "      <td>1360.00</td>\n",
       "      <td>150</td>\n",
       "      <td>11.881723</td>\n",
       "      <td>1045.50</td>\n",
       "      <td>166.0</td>\n",
       "      <td>1056.25</td>\n",
       "      <td>113.0</td>\n",
       "      <td>1692.00</td>\n",
       "      <td>1267.50</td>\n",
       "      <td>13.60</td>\n",
       "      <td>48.875001</td>\n",
       "      <td>0.757754</td>\n",
       "    </tr>\n",
       "    <tr>\n",
       "      <th>1</th>\n",
       "      <td>2004-03-10</td>\n",
       "      <td>19:00:00</td>\n",
       "      <td>2.0</td>\n",
       "      <td>1292.25</td>\n",
       "      <td>112</td>\n",
       "      <td>9.397165</td>\n",
       "      <td>954.75</td>\n",
       "      <td>103.0</td>\n",
       "      <td>1173.75</td>\n",
       "      <td>92.0</td>\n",
       "      <td>1558.75</td>\n",
       "      <td>972.25</td>\n",
       "      <td>13.30</td>\n",
       "      <td>47.700000</td>\n",
       "      <td>0.725487</td>\n",
       "    </tr>\n",
       "    <tr>\n",
       "      <th>2</th>\n",
       "      <td>2004-03-10</td>\n",
       "      <td>20:00:00</td>\n",
       "      <td>2.2</td>\n",
       "      <td>1402.00</td>\n",
       "      <td>88</td>\n",
       "      <td>8.997817</td>\n",
       "      <td>939.25</td>\n",
       "      <td>131.0</td>\n",
       "      <td>1140.00</td>\n",
       "      <td>114.0</td>\n",
       "      <td>1554.50</td>\n",
       "      <td>1074.00</td>\n",
       "      <td>11.90</td>\n",
       "      <td>53.975000</td>\n",
       "      <td>0.750239</td>\n",
       "    </tr>\n",
       "    <tr>\n",
       "      <th>3</th>\n",
       "      <td>2004-03-10</td>\n",
       "      <td>21:00:00</td>\n",
       "      <td>2.2</td>\n",
       "      <td>1375.50</td>\n",
       "      <td>80</td>\n",
       "      <td>9.228796</td>\n",
       "      <td>948.25</td>\n",
       "      <td>172.0</td>\n",
       "      <td>1092.00</td>\n",
       "      <td>122.0</td>\n",
       "      <td>1583.75</td>\n",
       "      <td>1203.25</td>\n",
       "      <td>11.00</td>\n",
       "      <td>60.000000</td>\n",
       "      <td>0.786713</td>\n",
       "    </tr>\n",
       "    <tr>\n",
       "      <th>4</th>\n",
       "      <td>2004-03-10</td>\n",
       "      <td>22:00:00</td>\n",
       "      <td>1.6</td>\n",
       "      <td>1272.25</td>\n",
       "      <td>51</td>\n",
       "      <td>6.518224</td>\n",
       "      <td>835.50</td>\n",
       "      <td>131.0</td>\n",
       "      <td>1205.00</td>\n",
       "      <td>116.0</td>\n",
       "      <td>1490.00</td>\n",
       "      <td>1110.00</td>\n",
       "      <td>11.15</td>\n",
       "      <td>59.575001</td>\n",
       "      <td>0.788794</td>\n",
       "    </tr>\n",
       "  </tbody>\n",
       "</table>\n",
       "</div>"
      ],
      "text/plain": [
       "        Date      Time  CO(GT)  PT08.S1(CO)  NMHC(GT)   C6H6(GT)  \\\n",
       "0 2004-03-10  18:00:00     2.6      1360.00       150  11.881723   \n",
       "1 2004-03-10  19:00:00     2.0      1292.25       112   9.397165   \n",
       "2 2004-03-10  20:00:00     2.2      1402.00        88   8.997817   \n",
       "3 2004-03-10  21:00:00     2.2      1375.50        80   9.228796   \n",
       "4 2004-03-10  22:00:00     1.6      1272.25        51   6.518224   \n",
       "\n",
       "   PT08.S2(NMHC)  NOx(GT)  PT08.S3(NOx)  NO2(GT)  PT08.S4(NO2)  PT08.S5(O3)  \\\n",
       "0        1045.50    166.0       1056.25    113.0       1692.00      1267.50   \n",
       "1         954.75    103.0       1173.75     92.0       1558.75       972.25   \n",
       "2         939.25    131.0       1140.00    114.0       1554.50      1074.00   \n",
       "3         948.25    172.0       1092.00    122.0       1583.75      1203.25   \n",
       "4         835.50    131.0       1205.00    116.0       1490.00      1110.00   \n",
       "\n",
       "       T         RH        AH  \n",
       "0  13.60  48.875001  0.757754  \n",
       "1  13.30  47.700000  0.725487  \n",
       "2  11.90  53.975000  0.750239  \n",
       "3  11.00  60.000000  0.786713  \n",
       "4  11.15  59.575001  0.788794  "
      ]
     },
     "execution_count": 6,
     "metadata": {},
     "output_type": "execute_result"
    }
   ],
   "source": [
    "# Read in Data (excel file)\n",
    "\n",
    "raw_data_df = pd.read_excel(\"C:/Users/tbesas/Documents/0 School/01 Spring 2017/04 EE496/Data/Air Quality Data/AirQualityUCI/AirQualityUCI.xlsx\")\n",
    "raw_data_df.head()\n",
    "# print(raw_data_df)"
   ]
  },
  {
   "cell_type": "code",
   "execution_count": 7,
   "metadata": {
    "collapsed": false
   },
   "outputs": [
    {
     "data": {
      "text/html": [
       "<div>\n",
       "<table border=\"1\" class=\"dataframe\">\n",
       "  <thead>\n",
       "    <tr style=\"text-align: right;\">\n",
       "      <th></th>\n",
       "      <th>CO</th>\n",
       "      <th>PT0</th>\n",
       "      <th>Temp</th>\n",
       "      <th>RH</th>\n",
       "      <th>AH</th>\n",
       "    </tr>\n",
       "  </thead>\n",
       "  <tbody>\n",
       "    <tr>\n",
       "      <th>0</th>\n",
       "      <td>2.6</td>\n",
       "      <td>1360.00</td>\n",
       "      <td>13.60</td>\n",
       "      <td>48.875001</td>\n",
       "      <td>0.757754</td>\n",
       "    </tr>\n",
       "    <tr>\n",
       "      <th>1</th>\n",
       "      <td>2.0</td>\n",
       "      <td>1292.25</td>\n",
       "      <td>13.30</td>\n",
       "      <td>47.700000</td>\n",
       "      <td>0.725487</td>\n",
       "    </tr>\n",
       "    <tr>\n",
       "      <th>2</th>\n",
       "      <td>2.2</td>\n",
       "      <td>1402.00</td>\n",
       "      <td>11.90</td>\n",
       "      <td>53.975000</td>\n",
       "      <td>0.750239</td>\n",
       "    </tr>\n",
       "    <tr>\n",
       "      <th>3</th>\n",
       "      <td>2.2</td>\n",
       "      <td>1375.50</td>\n",
       "      <td>11.00</td>\n",
       "      <td>60.000000</td>\n",
       "      <td>0.786713</td>\n",
       "    </tr>\n",
       "    <tr>\n",
       "      <th>4</th>\n",
       "      <td>1.6</td>\n",
       "      <td>1272.25</td>\n",
       "      <td>11.15</td>\n",
       "      <td>59.575001</td>\n",
       "      <td>0.788794</td>\n",
       "    </tr>\n",
       "  </tbody>\n",
       "</table>\n",
       "</div>"
      ],
      "text/plain": [
       "    CO      PT0   Temp         RH        AH\n",
       "0  2.6  1360.00  13.60  48.875001  0.757754\n",
       "1  2.0  1292.25  13.30  47.700000  0.725487\n",
       "2  2.2  1402.00  11.90  53.975000  0.750239\n",
       "3  2.2  1375.50  11.00  60.000000  0.786713\n",
       "4  1.6  1272.25  11.15  59.575001  0.788794"
      ]
     },
     "execution_count": 7,
     "metadata": {},
     "output_type": "execute_result"
    }
   ],
   "source": [
    "df_raw = raw_data_df.loc[:, ['CO(GT)','PT08.S1(CO)', 'T', 'RH', 'AH']]\n",
    "df_2014 = df_raw\n",
    "df_2014.columns = ['CO','PT0', 'Temp', 'RH', 'AH']\n",
    "\n",
    "df_2014.head()"
   ]
  },
  {
   "cell_type": "code",
   "execution_count": 8,
   "metadata": {
    "collapsed": false
   },
   "outputs": [
    {
     "name": "stdout",
     "output_type": "stream",
     "text": [
      "(9357, 5)\n",
      "9357\n"
     ]
    }
   ],
   "source": [
    "print(np.shape(df_2014))\n",
    "[N,L] = np.shape(df_2014)\n",
    "print(N)"
   ]
  },
  {
   "cell_type": "code",
   "execution_count": 9,
   "metadata": {
    "collapsed": false
   },
   "outputs": [],
   "source": [
    "# Case where the data is re-indexed to remove gaps when -200 is taken out \n",
    "#labels = ['CO','PT0','Temp', 'RH', 'AH']\n",
    "\n",
    "#df_2014 = df_2014[df_2014.CO != -200]\n",
    "#df_2014 = df_2014[df_2014.PT0 != -200]\n",
    "#df_2014 = df_2014[df_2014.Temp != -200]\n",
    "#df_2014 = df_2014[df_2014.RH != -200]\n",
    "#df_2014 = df_2014[df_2014.AH != -200]\n",
    "#df = np.asarray(df_2014.values)\n",
    "#df = pd.DataFrame(df, columns = labels)       \n",
    "## print(df)\n",
    "## df.head()\n"
   ]
  },
  {
   "cell_type": "code",
   "execution_count": 10,
   "metadata": {
    "collapsed": false
   },
   "outputs": [
    {
     "name": "stdout",
     "output_type": "stream",
     "text": [
      "(9357, 5)\n",
      "9357\n",
      "       CO          PT0       Temp         RH        AH\n",
      "0     2.6  1360.000000  13.600000  48.875001  0.757754\n",
      "1     2.0  1292.250000  13.300000  47.700000  0.725487\n",
      "2     2.2  1402.000000  11.900000  53.975000  0.750239\n",
      "3     2.2  1375.500000  11.000000  60.000000  0.786713\n",
      "4     1.6  1272.250000  11.150000  59.575001  0.788794\n",
      "5     1.2  1197.000000  11.175000  59.175000  0.784772\n",
      "6     1.2  1185.000000  11.325000  56.775000  0.760312\n",
      "7     1.0  1136.250000  10.675000  60.000000  0.770238\n",
      "8     0.9  1094.000000  10.650000  59.674999  0.764819\n",
      "9     0.6  1009.750000  10.250000  60.200001  0.751657\n",
      "10    0.0  1011.000000  10.075000  60.474999  0.746495\n",
      "11    0.7  1066.000000  11.000000  56.175000  0.736560\n",
      "12    0.7  1051.750000  10.450000  58.125000  0.735295\n",
      "13    1.1  1144.000000  10.200000  59.599999  0.741736\n",
      "14    2.0  1333.250000  10.750000  57.425000  0.740795\n",
      "15    2.2  1351.000000  10.500000  60.599998  0.769111\n",
      "16    1.7  1233.250000  10.800000  58.350000  0.755183\n",
      "17    1.5  1178.750000  10.500000  57.925000  0.735161\n",
      "18    1.6  1236.000000   9.525000  66.774999  0.795054\n",
      "19    1.9  1285.500000   8.300000  76.425001  0.839268\n",
      "20    2.9  1371.000000   8.000000  81.150000  0.873589\n",
      "21    2.2  1310.000000   8.325000  79.799999  0.877784\n",
      "22    2.2  1291.750000   9.700000  71.150002  0.856938\n",
      "23    2.9  1383.000000   9.775000  67.624998  0.818501\n",
      "24    4.8  1580.750000  10.350000  64.174999  0.806544\n",
      "25    6.9  1775.500000   9.650000  69.300001  0.831921\n",
      "26    6.1  1640.000000   9.650000  67.750000  0.813314\n",
      "27    3.9  1312.750000   9.125000  63.974999  0.741924\n",
      "28    1.5   964.500000   8.175000  63.400000  0.690484\n",
      "29    1.0   912.750000   8.250000  60.824999  0.665744\n",
      "...   ...          ...        ...        ...       ...\n",
      "9327  1.2  1022.250000  17.825000  30.675000  0.620458\n",
      "9328  1.4   970.250000  21.125000  23.725000  0.587528\n",
      "9329  1.3   999.750000  24.000000  19.275000  0.567283\n",
      "9330  1.4   996.000000  26.450000  16.450000  0.559414\n",
      "9331  1.0   928.000000  28.675000  13.700000  0.530155\n",
      "9332  1.0   932.750000  28.475000  13.075000  0.500166\n",
      "9333  1.1   956.000000  30.000000  11.075000  0.462436\n",
      "9334  1.3   967.500000  29.425000  10.375000  0.419179\n",
      "9335  1.4   952.500000  28.875000   9.875000  0.386566\n",
      "9336  1.2  1014.666667  22.800001  21.699999  0.594491\n",
      "9337  2.7  1248.000000  19.925000  33.050000  0.760784\n",
      "9338  2.5  1180.250000  17.500000  40.724999  0.807281\n",
      "9339  1.5  1101.750000  16.450000  46.550000  0.864238\n",
      "9340  1.6  1115.500000  15.525000  48.975000  0.857933\n",
      "9341  1.2  1099.750000  14.275000  52.500000  0.849727\n",
      "9342  0.9  1012.000000  14.175000  51.450000  0.827454\n",
      "9343  0.6   944.250000  13.850000  51.150001  0.805778\n",
      "9344  0.5   911.750000  12.100000  56.300000  0.792730\n",
      "9345  0.4   887.000000  11.325000  58.899999  0.788769\n",
      "9346  0.0   864.250000  11.825000  55.975000  0.774275\n",
      "9347  0.5   888.250000  10.400000  59.875000  0.754964\n",
      "9348  1.1  1030.500000   9.550000  63.150000  0.753129\n",
      "9349  4.0  1383.500000   9.675000  61.924999  0.744608\n",
      "9350  5.0  1446.000000  13.550000  48.875000  0.755337\n",
      "9351  3.9  1296.500000  18.150001  36.275001  0.748652\n",
      "9352  3.1  1314.250000  21.850000  29.250000  0.756824\n",
      "9353  2.4  1162.500000  24.325000  23.725000  0.711864\n",
      "9354  2.4  1142.000000  26.900000  18.350000  0.640649\n",
      "9355  2.1  1002.500000  28.325000  13.550000  0.513866\n",
      "9356  2.2  1070.750000  28.500000  13.125000  0.502804\n",
      "\n",
      "[9357 rows x 5 columns]\n"
     ]
    }
   ],
   "source": [
    "df_2014 = df_2014.replace(-200, 0)\n",
    "\n",
    "\n",
    "print(np.shape(df_2014))\n",
    "[N,L] = np.shape(df_2014)\n",
    "print(N)\n",
    "print(df_2014)"
   ]
  },
  {
   "cell_type": "code",
   "execution_count": 11,
   "metadata": {
    "collapsed": false
   },
   "outputs": [
    {
     "name": "stdout",
     "output_type": "stream",
     "text": [
      "(9357, 5)\n",
      "9357\n"
     ]
    }
   ],
   "source": [
    "labels = ['CO','PT0','Temp', 'RH', 'AH']\n",
    "\n",
    "df_2014 = df_2014[df_2014.CO != -200]\n",
    "df_2014 = df_2014[df_2014.PT0 != -200]\n",
    "df_2014 = df_2014[df_2014.Temp != -200]\n",
    "df_2014 = df_2014[df_2014.RH != -200]\n",
    "df_2014 = df_2014[df_2014.AH != -200]\n",
    "\n",
    "\n",
    "print(np.shape(df_2014))\n",
    "[N,L] = np.shape(df_2014)\n",
    "print(N)\n"
   ]
  },
  {
   "cell_type": "code",
   "execution_count": 17,
   "metadata": {
    "collapsed": false
   },
   "outputs": [
    {
     "name": "stdout",
     "output_type": "stream",
     "text": [
      "(9357, 5)\n",
      "9357\n"
     ]
    }
   ],
   "source": [
    "print(np.shape(df_2014))\n",
    "[N,L] = np.shape(df_2014)\n",
    "print(N)"
   ]
  },
  {
   "cell_type": "code",
   "execution_count": 18,
   "metadata": {
    "collapsed": false
   },
   "outputs": [
    {
     "data": {
      "image/png": "[encoded data removed]",
      "text/plain": [
       "<matplotlib.figure.Figure at 0x1bce2fca0b8>"
      ]
     },
     "metadata": {},
     "output_type": "display_data"
    }
   ],
   "source": [
    "CO = df_2014['CO'].values\n",
    "\n",
    "plt.plot(CO[0:1000], 'o')\n",
    "plt.title('CO(GT)')\n",
    "plt.xlabel('sample #')\n",
    "plt.ylabel('CO(GT)')\n",
    "plt.show()\n"
   ]
  },
  {
   "cell_type": "code",
   "execution_count": 19,
   "metadata": {
    "collapsed": false
   },
   "outputs": [
    {
     "name": "stdout",
     "output_type": "stream",
     "text": [
      "(9357, 1)\n",
      "(4, 9357)\n",
      "[[ 0.00466855]\n",
      " [-0.11680147]\n",
      " [-0.04991066]\n",
      " [ 1.20971749]]\n"
     ]
    }
   ],
   "source": [
    "# FINDING CO as a function of PT0, Temp, RH, and AH values\n",
    "\n",
    "\n",
    "# Desired = CO\n",
    "CO = df_2014['CO'].values\n",
    "CO = np.asmatrix(CO).T\n",
    "print(CO.shape)\n",
    "\n",
    "# Create X matrix\n",
    "X = df_2014.loc[:,['PT0','Temp', 'RH', 'AH']].values\n",
    "X = np.asmatrix(X)\n",
    "X = X.T\n",
    "print(X.shape)\n",
    "\n",
    "# Get Weights\n",
    "W = np.linalg.pinv(X.T)*CO\n",
    "print(W)\n",
    "\n",
    "# Get Prediction\n",
    "Y = (X.T)*W"
   ]
  },
  {
   "cell_type": "code",
   "execution_count": 21,
   "metadata": {
    "collapsed": false
   },
   "outputs": [
    {
     "name": "stdout",
     "output_type": "stream",
     "text": [
      "1.2097401975\n"
     ]
    }
   ],
   "source": [
    "# Check Errors\n",
    "Error = RMSE(CO,Y)\n",
    "print(Error)"
   ]
  },
  {
   "cell_type": "code",
   "execution_count": null,
   "metadata": {
    "collapsed": true
   },
   "outputs": [],
   "source": []
  }
 ],
 "metadata": {
  "anaconda-cloud": {},
  "kernelspec": {
   "display_name": "Python [default]",
   "language": "python",
   "name": "python3"
  },
  "language_info": {
   "codemirror_mode": {
    "name": "ipython",
    "version": 3
   },
   "file_extension": ".py",
   "mimetype": "text/x-python",
   "name": "python",
   "nbconvert_exporter": "python",
   "pygments_lexer": "ipython3",
   "version": "3.5.2"
  }
 },
 "nbformat": 4,
 "nbformat_minor": 0
}
